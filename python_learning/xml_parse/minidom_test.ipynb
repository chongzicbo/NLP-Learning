{
 "cells": [
  {
   "cell_type": "code",
   "execution_count": 1,
   "metadata": {},
   "outputs": [],
   "source": [
    "from xml.dom import minidom\n",
    "\n",
    "# 解析 XML 字符串\n",
    "xml_string = \"\"\"<library>\n",
    "    <book id=\"1\">\n",
    "        <title>Python Basics</title>\n",
    "        <author>John Doe</author>\n",
    "    </book>\n",
    "    <book id=\"2\">\n",
    "        <title>Advanced Python</title>\n",
    "        <author>Jane Smith</author>\n",
    "    </book>\n",
    "</library>\n",
    "\"\"\""
   ]
  },
  {
   "cell_type": "code",
   "execution_count": 2,
   "metadata": {},
   "outputs": [
    {
     "name": "stdout",
     "output_type": "stream",
     "text": [
      "<?xml version=\"1.0\" ?><library>\n",
      "    <book id=\"1\">\n",
      "        <title>Python Basics</title>\n",
      "        <author>John Doe</author>\n",
      "    </book>\n",
      "    <book id=\"2\">\n",
      "        <title>Advanced Python</title>\n",
      "        <author>Jane Smith</author>\n",
      "    </book>\n",
      "</library>\n"
     ]
    }
   ],
   "source": [
    "dom = minidom.parseString(xml_string)\n",
    "print(dom.toxml())  # 输出整个 XML 文档"
   ]
  },
  {
   "cell_type": "code",
   "execution_count": 3,
   "metadata": {},
   "outputs": [
    {
     "name": "stdout",
     "output_type": "stream",
     "text": [
      "<book id=\"1\">\n",
      "        <title>Python Basics</title>\n",
      "        <author>John Doe</author>\n",
      "    </book>\n",
      "<book id=\"2\">\n",
      "        <title>Advanced Python</title>\n",
      "        <author>Jane Smith</author>\n",
      "    </book>\n"
     ]
    }
   ],
   "source": [
    "# 获取所有 <book> 元素\n",
    "books = dom.getElementsByTagName(\"book\")\n",
    "for book in books:\n",
    "    print(book.toxml())  # 输出每个 <book> 元素的 XML"
   ]
  },
  {
   "cell_type": "code",
   "execution_count": 4,
   "metadata": {},
   "outputs": [
    {
     "name": "stdout",
     "output_type": "stream",
     "text": [
      "1\n"
     ]
    }
   ],
   "source": [
    "# 获取 <book> 元素的 \"id\" 属性\n",
    "book = dom.getElementsByTagName(\"book\")[0]\n",
    "print(book.getAttribute(\"id\"))  # 输出 \"1\"\n"
   ]
  },
  {
   "cell_type": "code",
   "execution_count": 5,
   "metadata": {},
   "outputs": [
    {
     "name": "stdout",
     "output_type": "stream",
     "text": [
      "<?xml version=\"1.0\" ?><library>\n",
      "    <book id=\"1\">\n",
      "        <title>Python Basics</title>\n",
      "        <author>John Doe</author>\n",
      "    </book>\n",
      "    <book id=\"2\">\n",
      "        <title>Advanced Python</title>\n",
      "        <author>Jane Smith</author>\n",
      "    </book>\n",
      "<book id=\"3\"/></library>\n"
     ]
    }
   ],
   "source": [
    "# 创建一个新的 <book> 元素\n",
    "new_book = dom.createElement(\"book\")\n",
    "new_book.setAttribute(\"id\", \"3\")\n",
    "dom.documentElement.appendChild(new_book)\n",
    "print(dom.toxml())  # 输出更新后的 XML"
   ]
  },
  {
   "cell_type": "code",
   "execution_count": 6,
   "metadata": {},
   "outputs": [
    {
     "name": "stdout",
     "output_type": "stream",
     "text": [
      "<?xml version=\"1.0\" ?><library>\n",
      "    <book id=\"1\">\n",
      "        <title>Python Basics</title>\n",
      "        <author>John Doe</author>\n",
      "    </book>\n",
      "    <book id=\"2\">\n",
      "        <title>Advanced Python</title>\n",
      "        <author>Jane Smith</author>\n",
      "    </book>\n",
      "<book id=\"3\"/><book>Python Programming</book></library>\n"
     ]
    }
   ],
   "source": [
    "# 创建一个文本节点并添加到 <book> 元素中\n",
    "text_node = dom.createTextNode(\"Python Programming\")\n",
    "new_book = dom.createElement(\"book\")\n",
    "new_book.appendChild(text_node)\n",
    "dom.documentElement.appendChild(new_book)\n",
    "print(dom.toxml())  # 输出更新后的 XML"
   ]
  },
  {
   "cell_type": "code",
   "execution_count": 7,
   "metadata": {},
   "outputs": [
    {
     "name": "stdout",
     "output_type": "stream",
     "text": [
      "<?xml version=\"1.0\" ?><library>\n",
      "    \n",
      "    <book id=\"2\">\n",
      "        <title>Advanced Python</title>\n",
      "        <author>Jane Smith</author>\n",
      "    </book>\n",
      "<book id=\"3\"/><book>Python Programming</book></library>\n"
     ]
    }
   ],
   "source": [
    "# 删除第一个 <book> 元素\n",
    "book = dom.getElementsByTagName(\"book\")[0]\n",
    "dom.documentElement.removeChild(book)\n",
    "print(dom.toxml())  # 输出更新后的 XML"
   ]
  },
  {
   "cell_type": "code",
   "execution_count": 8,
   "metadata": {},
   "outputs": [
    {
     "name": "stdout",
     "output_type": "stream",
     "text": [
      "<?xml version=\"1.0\" ?><library>\n",
      "    \n",
      "    <book id=\"2\">\n",
      "        <title>Advanced Python</title>\n",
      "        <author>Jane Smith</author>\n",
      "    </book>\n",
      "<book id=\"3\"/><book>Python Programming</book></library>\n",
      "<?xml version=\"1.0\" ?>\n",
      "<library>\n",
      "\t\n",
      "    \n",
      "\t\n",
      "    \n",
      "\t<book id=\"2\">\n",
      "\t\t\n",
      "        \n",
      "\t\t<title>Advanced Python</title>\n",
      "\t\t\n",
      "        \n",
      "\t\t<author>Jane Smith</author>\n",
      "\t\t\n",
      "    \n",
      "\t</book>\n",
      "\t\n",
      "\n",
      "\t<book id=\"3\"/>\n",
      "\t<book>Python Programming</book>\n",
      "</library>\n",
      "\n"
     ]
    }
   ],
   "source": [
    "# 生成 XML 字符串\n",
    "print(dom.toxml())  # 紧凑格式\n",
    "print(dom.toprettyxml())  # 带缩进和换行的格式"
   ]
  },
  {
   "cell_type": "code",
   "execution_count": null,
   "metadata": {},
   "outputs": [],
   "source": []
  }
 ],
 "metadata": {
  "kernelspec": {
   "display_name": "base",
   "language": "python",
   "name": "python3"
  },
  "language_info": {
   "codemirror_mode": {
    "name": "ipython",
    "version": 3
   },
   "file_extension": ".py",
   "mimetype": "text/x-python",
   "name": "python",
   "nbconvert_exporter": "python",
   "pygments_lexer": "ipython3",
   "version": "3.12.7"
  }
 },
 "nbformat": 4,
 "nbformat_minor": 2
}
