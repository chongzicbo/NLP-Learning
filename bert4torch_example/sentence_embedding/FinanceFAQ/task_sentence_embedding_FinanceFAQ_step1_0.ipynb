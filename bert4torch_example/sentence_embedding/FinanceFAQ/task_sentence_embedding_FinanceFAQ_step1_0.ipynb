{
 "cells": [
  {
   "cell_type": "code",
   "execution_count": null,
   "outputs": [],
   "source": [
    "from config import *\n",
    "import pandas as pd\n",
    "import numpy as np\n",
    "q_std_map = pd.read_csv('F:/Projects/data/corpus/qa/FinanceFAQ/input/q_std.tsv', sep='\\t', encoding='utf-8')['0'].to_dict()\n",
    "query_pair = pd.read_csv('F:/Projects/data/corpus/qa/FinanceFAQ/input/query_pair_0.tsv', sep='\\t', encoding='utf-8')\n",
    "query_pair['q_std'] = query_pair['q_std'].map(q_std_map)\n",
    "query_pair.to_csv(fst_train_file, sep='\\t', encoding='utf-8', index=False)\n",
    "query_pair.iloc[5:9]"
   ],
   "metadata": {
    "collapsed": false,
    "pycharm": {
     "name": "#%%\n"
    }
   }
  },
  {
   "cell_type": "code",
   "execution_count": null,
   "outputs": [],
   "source": [
    "query_pair.q_sim.str.len().describe()"
   ],
   "metadata": {
    "collapsed": false,
    "pycharm": {
     "name": "#%%\n"
    }
   }
  },
  {
   "cell_type": "code",
   "execution_count": null,
   "outputs": [],
   "source": [
    "# 为每个q_std随机选择一个q_sim作为dev集\n",
    "q_std_list = query_pair['q_std'].unique().tolist()\n",
    "query_pair['test_rnd'] = query_pair.q_std.apply(lambda x: np.random.rand())\n",
    "query_pair['nrank_test'] = query_pair.groupby('q_std')['test_rnd'].rank(ascending=0, method='first')\n",
    "dev_query_pair =  query_pair[query_pair.nrank_test<=1][['q_std', 'q_sim']]\n",
    "dev_query_pair.head(5)"
   ],
   "metadata": {
    "collapsed": false,
    "pycharm": {
     "name": "#%%\n"
    }
   }
  },
  {
   "cell_type": "code",
   "execution_count": null,
   "outputs": [],
   "source": [
    "# 为所有的query配一个qid\n",
    "q_std_dev = dev_query_pair.q_std.unique().tolist()\n",
    "q_sim_dev = dev_query_pair.q_sim.unique().tolist()\n",
    "q_qid = q_std_dev + q_sim_dev\n",
    "q_qid = list(set(q_qid))\n",
    "q_qid_dict = {i+1:q_qid[i] for i in range(0, len(q_qid))}  # {id: query}\n",
    "q_qid_dict_inv = {v: k for k, v in q_qid_dict.items()}  # {query: id}\n",
    "\n",
    "# 建立ir_corpus： [q_id, q_std]的映射\n",
    "ir_corpus = {q_qid_dict_inv[v]: v for v in q_std_list if v not in q_sim_dev}\n",
    "ir_corpus_df = pd.DataFrame(list(ir_corpus.items()), columns=['qid', 'question']).sort_values('qid').reset_index(drop=True)\n",
    "ir_corpus_df.to_csv(ir_path, sep='\\t', index=False)\n",
    "\n",
    "# 保存dev\n",
    "dev_query_pair['qid'] = dev_query_pair.q_sim.map(q_qid_dict_inv)\n",
    "dev_query_pair['duplicate_qids'] = dev_query_pair.q_std.map(q_qid_dict_inv)\n",
    "dev_query_pair.duplicate_qids = dev_query_pair.duplicate_qids.astype('str')\n",
    "dev_query_pair = dev_query_pair.groupby(['q_sim', 'qid']).apply(lambda v: ','.join(v['duplicate_qids'])).reset_index(name='duplicate_qids')[['qid', 'q_sim', 'duplicate_qids']]\n",
    "dev_query_pair.to_csv(fst_dev_file, sep='\\t', index=False)"
   ],
   "metadata": {
    "collapsed": false,
    "pycharm": {
     "name": "#%%\n"
    }
   }
  },
  {
   "cell_type": "code",
   "execution_count": null,
   "outputs": [],
   "source": [
    "print('读取数据集并分别保存标问、相似问、所有语料: ', fst_train_file)\n",
    "std_data = pd.read_csv(fst_train_file, sep=\"\\t\")\n",
    "q_std_list = std_data.q_std.unique().tolist()  # 标准问list\n",
    "q_sim_list = std_data.q_sim.unique().tolist()  # 相似问list\n",
    "q_corpus = list(set(q_std_list + q_sim_list))\n",
    "\n",
    "q_std_df = pd.DataFrame(q_std_list, columns=['q'])\n",
    "q_corpus_df = pd.DataFrame(q_corpus, columns=['q'])\n",
    "q_sim_df = pd.DataFrame(q_sim_list, columns=['q'])\n",
    "\n",
    "q_std_df.to_csv(q_std_file, index=None, header=False, sep=\"\\t\")\n",
    "q_corpus_df.to_csv(q_corpus_file, index=None, header=False, sep=\"\\t\")\n",
    "q_sim_df.to_csv(q_sim_file, index=None, header=False, sep=\"\\t\")\n",
    "\n",
    "print('q_std_list:——>', len(q_std_list), 'q_sim_list:——>', len(q_sim_list), 'q_corpus:——>', len(q_corpus))"
   ],
   "metadata": {
    "collapsed": false,
    "pycharm": {
     "name": "#%%\n"
    }
   }
  }
 ],
 "metadata": {
  "kernelspec": {
   "display_name": "Python 3",
   "language": "python",
   "name": "python3"
  },
  "language_info": {
   "codemirror_mode": {
    "name": "ipython",
    "version": 2
   },
   "file_extension": ".py",
   "mimetype": "text/x-python",
   "name": "python",
   "nbconvert_exporter": "python",
   "pygments_lexer": "ipython2",
   "version": "2.7.6"
  }
 },
 "nbformat": 4,
 "nbformat_minor": 0
}